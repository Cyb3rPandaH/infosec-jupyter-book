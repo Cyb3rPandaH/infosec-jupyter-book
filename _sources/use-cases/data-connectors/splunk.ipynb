{
 "cells": [
  {
   "cell_type": "markdown",
   "metadata": {},
   "source": [
    "# Splunk\n",
    "\n",
    "* **Author:** Roberto Rodriguez (@Cyb3rWard0g)\n",
    "* **Notes**: Download this notebook and use it to connect to your own Splunk instance. The BinderHub project might not allow direct connections to external entities on not common ports\n",
    "* **References:**\n",
    "    * https://github.com/target/huntlib"
   ]
  },
  {
   "cell_type": "markdown",
   "metadata": {},
   "source": [
    "## Using HuntLib (@DavidJBianco)\n",
    "\n",
    "Pre-requisites:\n",
    "\n",
    "* pip install huntlib"
   ]
  },
  {
   "cell_type": "markdown",
   "metadata": {},
   "source": [
    "### Import Library"
   ]
  },
  {
   "cell_type": "code",
   "execution_count": null,
   "metadata": {},
   "outputs": [],
   "source": [
    "from huntlib.splunk import SplunkDF"
   ]
  },
  {
   "cell_type": "markdown",
   "metadata": {},
   "source": [
    "### Search"
   ]
  },
  {
   "cell_type": "code",
   "execution_count": null,
   "metadata": {},
   "outputs": [],
   "source": [
    "df = s.search_df(\n",
    "  spl=\"search index=win_events EventCode=4688\",\n",
    "  start_time=\"-2d@d\",\n",
    "  end_time=\"@d\"\n",
    ")"
   ]
  },
  {
   "cell_type": "code",
   "execution_count": null,
   "metadata": {},
   "outputs": [],
   "source": []
  }
 ],
 "metadata": {
  "kernelspec": {
   "display_name": "Python 3",
   "language": "python",
   "name": "python3"
  },
  "language_info": {
   "codemirror_mode": {
    "name": "ipython",
    "version": 3
   },
   "file_extension": ".py",
   "mimetype": "text/x-python",
   "name": "python",
   "nbconvert_exporter": "python",
   "pygments_lexer": "ipython3",
   "version": "3.7.3"
  }
 },
 "nbformat": 4,
 "nbformat_minor": 2
}
